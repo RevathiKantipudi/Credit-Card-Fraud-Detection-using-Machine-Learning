{
 "cells": [
  {
   "cell_type": "code",
   "execution_count": 1,
   "id": "6edd3ef1",
   "metadata": {},
   "outputs": [
    {
     "name": "stdout",
     "output_type": "stream",
     "text": [
      "            Time        V1        V2        V3        V4        V5        V6  \\\n",
      "0            0.0 -1.359807 -0.072781  2.536347  1.378155 -0.338321  0.462388   \n",
      "1            0.0  1.191857  0.266151  0.166480  0.448154  0.060018 -0.082361   \n",
      "2            1.0 -1.358354 -1.340163  1.773209  0.379780 -0.503198  1.800499   \n",
      "3            1.0 -0.966272 -0.185226  1.792993 -0.863291 -0.010309  1.247203   \n",
      "4            2.0 -1.158233  0.877737  1.548718  0.403034 -0.407193  0.095921   \n",
      "...          ...       ...       ...       ...       ...       ...       ...   \n",
      "251048  155186.0  2.033827 -0.300373 -1.565897  0.151625  0.551311  0.356036   \n",
      "251049  155186.0 -0.104153 -0.756898  0.432324 -2.852392  0.086584 -0.028306   \n",
      "251050  155187.0  2.046648 -0.353506 -3.095606 -0.665970  2.687649  3.132674   \n",
      "251051  155187.0  1.774335  0.265302 -0.390381  3.776532  0.055016  0.040808   \n",
      "251052  155187.0 -0.311832  0.643494  0.187549 -0.773630  1.224698 -0.964173   \n",
      "\n",
      "              V7        V8        V9  ...       V21       V22       V23  \\\n",
      "0       0.239599  0.098698  0.363787  ... -0.018307  0.277838 -0.110474   \n",
      "1      -0.078803  0.085102 -0.255425  ... -0.225775 -0.638672  0.101288   \n",
      "2       0.791461  0.247676 -1.514654  ...  0.247998  0.771679  0.909412   \n",
      "3       0.237609  0.377436 -1.387024  ... -0.108300  0.005274 -0.190321   \n",
      "4       0.592941 -0.270533  0.817739  ... -0.009431  0.798278 -0.137458   \n",
      "...          ...       ...       ...  ...       ...       ...       ...   \n",
      "251048 -0.117249  0.033933  0.863509  ...  0.094227  0.528298 -0.070736   \n",
      "251049 -0.428025  0.125216 -2.170700  ... -0.055209  0.114241 -0.092091   \n",
      "251050 -0.128509  0.652132  0.232902  ... -0.029061 -0.024023  0.104252   \n",
      "251051 -0.022334  0.073783 -0.923700  ...  0.101502  0.167186  0.166972   \n",
      "251052  0.976075 -0.224382 -0.274102  ...       NaN       NaN       NaN   \n",
      "\n",
      "             V24       V25       V26       V27       V28  Amount  Class  \n",
      "0       0.066928  0.128539 -0.189115  0.133558 -0.021053  149.62    0.0  \n",
      "1      -0.339846  0.167170  0.125895 -0.008983  0.014724    2.69    0.0  \n",
      "2      -0.689281 -0.327642 -0.139097 -0.055353 -0.059752  378.66    0.0  \n",
      "3      -1.175575  0.647376 -0.221929  0.062723  0.061458  123.50    0.0  \n",
      "4       0.141267 -0.206010  0.502292  0.219422  0.215153   69.99    0.0  \n",
      "...          ...       ...       ...       ...       ...     ...    ...  \n",
      "251048 -0.161620  0.366453 -0.138916 -0.008113 -0.067720   14.90    0.0  \n",
      "251049  0.046760 -0.412770 -0.248795  0.155498  0.168850   10.00    0.0  \n",
      "251050  0.762032  0.208187  0.580192 -0.080770 -0.080875   19.99    0.0  \n",
      "251051  0.017867 -0.190143 -0.087581 -0.042056 -0.046165   51.59    0.0  \n",
      "251052       NaN       NaN       NaN       NaN       NaN     NaN    NaN  \n",
      "\n",
      "[251053 rows x 31 columns]\n"
     ]
    }
   ],
   "source": [
    "import pandas as pd\n",
    "df=pd.read_csv(r\"C:\\Users\\admin\\Desktop\\revathi\\DS\\ML_project_lab3\\creditcard.csv\")\n",
    "print(df)"
   ]
  },
  {
   "cell_type": "code",
   "execution_count": 2,
   "id": "96db4fd8",
   "metadata": {},
   "outputs": [],
   "source": [
    "df=df.loc[0:200000,:]\n",
    "df\n",
    "X=df.drop(columns=['Class'],axis=1)\n",
    "y=df['Class']\n"
   ]
  },
  {
   "cell_type": "code",
   "execution_count": 3,
   "id": "1363fb4f",
   "metadata": {},
   "outputs": [],
   "source": [
    "from sklearn.model_selection import train_test_split\n",
    "X_train, X_test, y_train, y_test = train_test_split(X, y, test_size=0.3)\n"
   ]
  },
  {
   "cell_type": "code",
   "execution_count": 49,
   "id": "6245f44f",
   "metadata": {},
   "outputs": [],
   "source": [
    "#BEFORE SAMPLING---> ACCURACIES"
   ]
  },
  {
   "cell_type": "code",
   "execution_count": 50,
   "id": "79100be8",
   "metadata": {},
   "outputs": [
    {
     "name": "stdout",
     "output_type": "stream",
     "text": [
      "[0. 0. 0. ... 0. 0. 0.]\n",
      "Training set accuracy: 1.0\n",
      "Test set accuracy: 0.9989833502774954\n",
      "0.0010166497225046248\n"
     ]
    }
   ],
   "source": [
    "#decision tree\n",
    "from sklearn.tree import DecisionTreeClassifier\n",
    "from sklearn.metrics import mean_squared_error\n",
    "clf1=DecisionTreeClassifier()\n",
    "clf1 = clf1.fit(X_train,y_train)\n",
    "a1 = clf1.score(X_train,y_train)\n",
    "b1 = clf1.score(X_test,y_test)\n",
    "y_pred1 = clf1.predict(X_test)\n",
    "print(y_pred1)\n",
    "print(\"Training set accuracy:\",a1)\n",
    "print(\"Test set accuracy:\",b1)\n",
    "\n",
    "c1 = mean_squared_error(y_test, y_pred1)\n",
    "print(c1)\n",
    "\n"
   ]
  },
  {
   "cell_type": "code",
   "execution_count": 51,
   "id": "0f598378",
   "metadata": {},
   "outputs": [],
   "source": [
    "import time\n",
    "s_train=time.process_time()\n"
   ]
  },
  {
   "cell_type": "code",
   "execution_count": 52,
   "id": "3a893be6",
   "metadata": {},
   "outputs": [
    {
     "name": "stdout",
     "output_type": "stream",
     "text": [
      "[0. 0. 0. ... 0. 0. 0.]\n",
      "0.9985142857142857\n",
      "0.9982833619439676\n",
      "0.0017166380560323994\n"
     ]
    }
   ],
   "source": [
    "#knn\n",
    "from sklearn.neighbors import KNeighborsClassifier\n",
    "clf2 = KNeighborsClassifier(n_neighbors = 3)\n",
    "clf2.fit(X_train,y_train)\n",
    "y_pred2 = clf2.predict(X_test)\n",
    "print(y_pred2)\n",
    "a2 = clf2.score(X_train,y_train)\n",
    "b2 = clf2.score(X_test,y_test)\n",
    "print(a2)\n",
    "print(b2)\n",
    "c2 = mean_squared_error(y_test, y_pred2)\n",
    "print(c2)"
   ]
  },
  {
   "cell_type": "code",
   "execution_count": 53,
   "id": "881bf4c6",
   "metadata": {},
   "outputs": [
    {
     "name": "stdout",
     "output_type": "stream",
     "text": [
      "[0. 0. 0. ... 0. 0. 0.]\n",
      "0.9980928571428571\n",
      "0.9980333661105648\n",
      "0.001966633889435176\n"
     ]
    }
   ],
   "source": [
    "#SVM\n",
    "from sklearn import svm\n",
    "clf3=svm.SVC()\n",
    "clf3.fit(X_train,y_train)\n",
    "clf3.support_vectors_\n",
    "y_pred3 = clf3.predict(X_test)\n",
    "print(y_pred3)\n",
    "a3 = clf3.score(X_train,y_train)\n",
    "b3 = clf3.score(X_test,y_test)\n",
    "print(a3)\n",
    "print(b3)\n",
    "c3 = mean_squared_error(y_test, y_pred3)\n",
    "print(c3)"
   ]
  },
  {
   "cell_type": "code",
   "execution_count": 54,
   "id": "584eebdf",
   "metadata": {},
   "outputs": [],
   "source": [
    "#mlp\n",
    "from sklearn.neural_network import MLPClassifier\n",
    "from sklearn.linear_model import Perceptron\n",
    "import sklearn.metrics as metric\n",
    "import numpy as np"
   ]
  },
  {
   "cell_type": "code",
   "execution_count": 55,
   "id": "9c771102",
   "metadata": {},
   "outputs": [
    {
     "name": "stdout",
     "output_type": "stream",
     "text": [
      "[0. 0. 0. ... 0. 0. 0.]\n",
      "0.9980928571428571\n",
      "0.9980333661105648\n",
      "0.001966633889435176\n"
     ]
    }
   ],
   "source": [
    "clf4=mlp=MLPClassifier(random_state=1,activation='logistic').fit(X_train,y_train)\n",
    "clf4.fit(X_train,y_train)\n",
    "y_pred4 = clf4.predict(X_test)\n",
    "print(y_pred4)\n",
    "a4 = clf4.score(X_train,y_train)\n",
    "b4 = clf4.score(X_test,y_test)\n",
    "print(a4)\n",
    "print(b4)\n",
    "c4 = mean_squared_error(y_test, y_pred4)\n",
    "print(c4)"
   ]
  },
  {
   "cell_type": "code",
   "execution_count": 56,
   "id": "64bfd391",
   "metadata": {},
   "outputs": [],
   "source": [
    "#NAIVES BAYES\n",
    "from sklearn.naive_bayes import GaussianNB\n",
    "from sklearn import metrics"
   ]
  },
  {
   "cell_type": "code",
   "execution_count": 57,
   "id": "e8031da5",
   "metadata": {},
   "outputs": [
    {
     "name": "stdout",
     "output_type": "stream",
     "text": [
      "[0. 0. 0. ... 0. 0. 0.]\n",
      "0.9893571428571428\n",
      "0.9890835152747455\n",
      "0.001966633889435176\n"
     ]
    }
   ],
   "source": [
    "clf5 = GaussianNB()\n",
    "clf5.fit(X_train, y_train)\n",
    "y_pred5 = clf5.predict(X_test)\n",
    "print(y_pred5)\n",
    "a5 = clf5.score(X_train,y_train)\n",
    "b5 = clf5.score(X_test,y_test)\n",
    "print(a5)\n",
    "print(b5)\n",
    "c5 = mean_squared_error(y_test, y_pred4)\n",
    "print(c5)"
   ]
  },
  {
   "cell_type": "code",
   "execution_count": 58,
   "id": "cdcfc9e9",
   "metadata": {},
   "outputs": [],
   "source": [
    "#RANDOM FOREST\n",
    "from sklearn.ensemble import RandomForestClassifier\n",
    "rfc = RandomForestClassifier()\n",
    "rfc.fit(X_train,y_train)\n",
    "y_pred = rfc.predict(X_test)"
   ]
  },
  {
   "cell_type": "code",
   "execution_count": 59,
   "id": "58782039",
   "metadata": {},
   "outputs": [
    {
     "name": "stdout",
     "output_type": "stream",
     "text": [
      "[0. 0. 0. ... 0. 0. 0.]\n",
      "Training set accuracy: 1.0\n",
      "Test set accuracy: 0.9989833502774954\n",
      "0.0004833252779120348\n"
     ]
    }
   ],
   "source": [
    "\n",
    "a6 = rfc.score(X_train,y_train)\n",
    "b6 = rfc.score(X_test,y_test)\n",
    "y_pred = rfc.predict(X_test)\n",
    "print(y_pred)\n",
    "print(\"Training set accuracy:\",a1)\n",
    "print(\"Test set accuracy:\",b1)\n",
    "\n",
    "c6 = mean_squared_error(y_test, y_pred)\n",
    "print(c6)"
   ]
  },
  {
   "cell_type": "code",
   "execution_count": 60,
   "id": "55ed9f78",
   "metadata": {},
   "outputs": [
    {
     "name": "stdout",
     "output_type": "stream",
     "text": [
      "Requirement already satisfied: xgboost in c:\\users\\admin\\anaconda3\\lib\\site-packages (1.7.2)\n",
      "Requirement already satisfied: numpy in c:\\users\\admin\\anaconda3\\lib\\site-packages (from xgboost) (1.21.5)\n",
      "Requirement already satisfied: scipy in c:\\users\\admin\\anaconda3\\lib\\site-packages (from xgboost) (1.7.3)\n",
      "[0 0 0 ... 0 0 0]\n",
      "Training set accuracy: 1.0\n",
      "Test set accuracy: 0.999550007499875\n",
      "0.0004499925001249979\n"
     ]
    }
   ],
   "source": [
    "#XGBOOST\n",
    "! pip install xgboost\n",
    "import xgboost as xgb\n",
    "xg = xgb.XGBClassifier()\n",
    "xg.fit(X_train,y_train)\n",
    "from sklearn.metrics import mean_squared_error\n",
    "a7 = xg.score(X_train,y_train)\n",
    "b7 = xg.score(X_test,y_test)\n",
    "y_pred7 = xg.predict(X_test)\n",
    "print(y_pred7)\n",
    "print(\"Training set accuracy:\",a7)\n",
    "print(\"Test set accuracy:\",b7)\n",
    "\n",
    "c7 = mean_squared_error(y_test, y_pred7)\n",
    "print(c7)"
   ]
  },
  {
   "cell_type": "code",
   "execution_count": 61,
   "id": "bfbac0f6",
   "metadata": {},
   "outputs": [],
   "source": [
    "#PLOT SHOWING ACCURACIES BEFORE SAMPLING. AS THIS PROBLEM IS CLASS IMBALANCED PROBLEM, WE NEED TO BALANCE THE DATA\n",
    "# USING SAMPLING TECHNIQUES AND THEN FIND ACCURACIES AND AREA UNDER ROC CURVE VALUE."
   ]
  },
  {
   "cell_type": "code",
   "execution_count": 62,
   "id": "97f1868c",
   "metadata": {},
   "outputs": [
    {
     "name": "stdout",
     "output_type": "stream",
     "text": [
      "      Classifier  Train_Accuracy  Test_Accuracy  Mean Squared Error\n",
      "0  Decision Tree        1.000000       0.998983            0.001017\n",
      "1            kNN        0.998514       0.998283            0.001717\n",
      "2            svm        0.998093       0.998033            0.001967\n",
      "3            MLP        0.998093       0.998033            0.001967\n",
      "4   Naives Bayes        0.989357       0.989084            0.001967\n",
      "5   RandomForest        1.000000       0.999517            0.000483\n",
      "6        XGboost        1.000000       0.999550            0.000450\n",
      "\n"
     ]
    },
    {
     "data": {
      "image/png": "[encoded data removed]",
      "text/plain": [
       "<Figure size 432x288 with 1 Axes>"
      ]
     },
     "metadata": {
      "needs_background": "light"
     },
     "output_type": "display_data"
    }
   ],
   "source": [
    "\n",
    "import matplotlib.pyplot as plt\n",
    "c = pd.DataFrame({\n",
    "    \"Classifier\": [ \"Decision Tree\", \"kNN\",\"svm\",\"MLP\",\"Naives Bayes\",\"RandomForest\",\"XGboost\"],\n",
    "    \"Train_Accuracy\": [a1, a2, a3,a4,a5,a6,a7], \n",
    "    \"Test_Accuracy\": [b1, b2, b3,b4,b5,b6,b7],\n",
    "    \"Mean Squared Error\": [c1, c2, c3,c4,c5,c6,c7]\n",
    "})\n",
    "print(c)\n",
    "print()\n",
    "ax = c.plot.line(x='Classifier')"
   ]
  },
  {
   "cell_type": "code",
   "execution_count": null,
   "id": "e292b79c",
   "metadata": {},
   "outputs": [],
   "source": [
    "#BY this plot, we can infer that almost all the classifiers have almost same accuracies. So we should balance the dataset\n",
    "# and then find accuracies"
   ]
  },
  {
   "cell_type": "code",
   "execution_count": 15,
   "id": "36418b2b",
   "metadata": {},
   "outputs": [
    {
     "name": "stdout",
     "output_type": "stream",
     "text": [
      "1.0\n",
      "0.999133347777537\n",
      "Train timing :  9.5\n",
      "Test timing :  0.046875\n"
     ]
    }
   ],
   "source": [
    "#training and testing time\n",
    "import time\n",
    "#Decision Trees\n",
    "z1 = DecisionTreeClassifier()\n",
    "\n",
    "start_train = time.process_time()\n",
    "z1.fit(X_train,y_train)\n",
    "end_train = time.process_time()\n",
    "\n",
    "start_test = time.process_time()\n",
    "m1 = z1.score(X_train,y_train)\n",
    "n1 = z1.score(X_test,y_test)\n",
    "print(m1)\n",
    "print(n1)\n",
    "end_test = time.process_time()\n",
    "train1 = (end_train-start_train)\n",
    "test1= (end_test-start_test)\n",
    "print(\"Train timing : \", (end_train-start_train))\n",
    "print(\"Test timing : \", (end_test-start_test))"
   ]
  },
  {
   "cell_type": "code",
   "execution_count": 16,
   "id": "dd68abc6",
   "metadata": {},
   "outputs": [
    {
     "name": "stdout",
     "output_type": "stream",
     "text": [
      "0.9984\n",
      "0.998583356944051\n",
      "Train timing :  0.015625\n",
      "Test timing :  696.296875\n"
     ]
    }
   ],
   "source": [
    "#kNN classifier\n",
    "z2 = KNeighborsClassifier(n_neighbors=3)\n",
    "\n",
    "start_train = time.process_time()\n",
    "z2.fit(X_train, y_train)\n",
    "end_train = time.process_time()\n",
    "\n",
    "start_test = time.process_time()\n",
    "m2 = z2.score(X_train,y_train)\n",
    "n2 = z2.score(X_test,y_test)\n",
    "print(m2)\n",
    "print(n2)\n",
    "end_test = time.process_time()\n",
    "train2 = (end_train-start_train)\n",
    "test2= (end_test-start_test)\n",
    "print(\"Train timing : \", (end_train-start_train))\n",
    "print(\"Test timing : \", (end_test-start_test))"
   ]
  },
  {
   "cell_type": "code",
   "execution_count": 17,
   "id": "2df9532a",
   "metadata": {},
   "outputs": [
    {
     "name": "stdout",
     "output_type": "stream",
     "text": [
      "0.99795\n",
      "0.9983666938884352\n",
      "Train timing :  4.265625\n",
      "Test timing :  14.59375\n"
     ]
    }
   ],
   "source": [
    "#applying SVM classifier\n",
    "z3 = svm.SVC()\n",
    "\n",
    "start_train = time.process_time()\n",
    "z3.fit(X_train, y_train)\n",
    "z3.support_vectors_\n",
    "z3.support_vectors_.shape\n",
    "end_train = time.process_time()\n",
    "\n",
    "start_test = time.process_time()\n",
    "m3 = z3.score(X_train,y_train)\n",
    "n3 = z3.score(X_test,y_test)\n",
    "print(m3)\n",
    "print(n3)\n",
    "end_test = time.process_time()\n",
    "train3 = (end_train-start_train)\n",
    "test3= (end_test-start_test)\n",
    "print(\"Train timing : \", (end_train-start_train))\n",
    "print(\"Test timing : \", (end_test-start_test))"
   ]
  },
  {
   "cell_type": "code",
   "execution_count": 18,
   "id": "2721724c",
   "metadata": {},
   "outputs": [
    {
     "name": "stdout",
     "output_type": "stream",
     "text": [
      "0.99795\n",
      "0.9983666938884352\n",
      "Train timing :  1.796875\n",
      "Test timing :  0.375\n"
     ]
    }
   ],
   "source": [
    "#MLP classifier\n",
    "z4 = MLPClassifier(solver='lbfgs', activation='logistic', hidden_layer_sizes=(2,), random_state=1)\n",
    "\n",
    "start_train = time.process_time()\n",
    "z4.fit(X_train, y_train)\n",
    "end_train = time.process_time()\n",
    "\n",
    "start_test = time.process_time()\n",
    "m4 = z4.score(X_train,y_train)\n",
    "n4 = z4.score(X_test,y_test)\n",
    "print(m4)\n",
    "print(n4)\n",
    "end_test = time.process_time()\n",
    "train4 = (end_train-start_train)\n",
    "test4= (end_test-start_test)\n",
    "print(\"Train timing : \", (end_train-start_train))\n",
    "print(\"Test timing : \", (end_test-start_test))"
   ]
  },
  {
   "cell_type": "code",
   "execution_count": 19,
   "id": "dac46a9c",
   "metadata": {},
   "outputs": [
    {
     "name": "stdout",
     "output_type": "stream",
     "text": [
      "0.98905\n",
      "0.9897001716638056\n",
      "Train timing :  0.375\n",
      "Test timing :  0.34375\n"
     ]
    }
   ],
   "source": [
    "#Naive-Bayes\n",
    "z5 = GaussianNB()\n",
    "\n",
    "start_train = time.process_time()\n",
    "z5.fit(X_train,y_train)\n",
    "end_train = time.process_time()\n",
    "\n",
    "start_test = time.process_time()\n",
    "m5 = z5.score(X_train,y_train)\n",
    "n5 = z5.score(X_test,y_test)\n",
    "print(m5)\n",
    "print(n5)\n",
    "end_test = time.process_time()\n",
    "train5 = (end_train-start_train)\n",
    "test5 = (end_test-start_test)\n",
    "print(\"Train timing : \", (end_train-start_train))\n",
    "print(\"Test timing : \", (end_test-start_test))"
   ]
  },
  {
   "cell_type": "code",
   "execution_count": 20,
   "id": "65bcb6fa",
   "metadata": {},
   "outputs": [
    {
     "name": "stdout",
     "output_type": "stream",
     "text": [
      "1.0\n",
      "0.9996000066665556\n",
      "Train timing :  83.21875\n",
      "Test timing :  1.765625\n"
     ]
    }
   ],
   "source": [
    "#RandomForest\n",
    "z6 = RandomForestClassifier()\n",
    "\n",
    "start_train = time.process_time()\n",
    "z6.fit(X_train,y_train)\n",
    "end_train = time.process_time()\n",
    "\n",
    "start_test = time.process_time()\n",
    "m6 = z6.score(X_train,y_train)\n",
    "n6 = z6.score(X_test,y_test)\n",
    "print(m6)\n",
    "print(n6)\n",
    "end_test = time.process_time()\n",
    "train6 = (end_train-start_train)\n",
    "test6= (end_test-start_test)\n",
    "print(\"Train timing : \", (end_train-start_train))\n",
    "print(\"Test timing : \", (end_test-start_test))"
   ]
  },
  {
   "cell_type": "code",
   "execution_count": 38,
   "id": "f144c44a",
   "metadata": {},
   "outputs": [
    {
     "name": "stdout",
     "output_type": "stream",
     "text": [
      "1.0\n",
      "0.9996500058332362\n",
      "Train timing :  187.40625\n",
      "Test timing :  2.265625\n"
     ]
    }
   ],
   "source": [
    "#XGBOOST\n",
    "z7 = xgb.XGBClassifier()\n",
    "\n",
    "start_train = time.process_time()\n",
    "z7.fit(X_train,y_train)\n",
    "end_train = time.process_time()\n",
    "\n",
    "start_test = time.process_time()\n",
    "m7 = z7.score(X_train,y_train)\n",
    "n7= z7.score(X_test,y_test)\n",
    "print(m7)\n",
    "print(n7)\n",
    "end_test = time.process_time()\n",
    "train7 = (end_train-start_train)\n",
    "test7= (end_test-start_test)\n",
    "print(\"Train timing : \", (end_train-start_train))\n",
    "print(\"Test timing : \", (end_test-start_test))"
   ]
  },
  {
   "cell_type": "code",
   "execution_count": null,
   "id": "6041c527",
   "metadata": {},
   "outputs": [],
   "source": [
    "#PLOTS SHOWING ACCURACIES AND TRAINING AND TESTING TIMES"
   ]
  },
  {
   "cell_type": "code",
   "execution_count": 39,
   "id": "559ab59b",
   "metadata": {},
   "outputs": [
    {
     "name": "stdout",
     "output_type": "stream",
     "text": [
      "      Classifier  Train_Accuracy  Test_Accuracy\n",
      "0  Decision Tree        1.000000       0.870130\n",
      "1            kNN        1.000000       0.928571\n",
      "2            svm        0.548701       0.551948\n",
      "3            MLP        0.495130       0.512987\n",
      "4   Naives Bayes        0.915584       0.870130\n",
      "5   RandomForest        1.000000       0.999567\n",
      "6        XGBOOST        1.000000       1.000000\n",
      "\n",
      "\n",
      "      Classifier  Training Time   Test Time\n",
      "0  Decision Tree       9.500000    0.046875\n",
      "1            kNN       0.015625  696.296875\n",
      "2            svm       4.265625   14.593750\n",
      "3            MLP       1.796875    0.375000\n",
      "4   Naives Bayes       0.375000    0.343750\n",
      "5   RandomForest      83.218750    1.765625\n",
      "6        XGBOOST     187.406250    2.265625\n",
      "\n",
      "\n"
     ]
    },
    {
     "data": {
      "image/png": "[encoded data removed]",
      "text/plain": [
       "<Figure size 432x288 with 1 Axes>"
      ]
     },
     "metadata": {
      "needs_background": "light"
     },
     "output_type": "display_data"
    },
    {
     "data": {
      "image/png": "[encoded data removed]",
      "text/plain": [
       "<Figure size 432x288 with 1 Axes>"
      ]
     },
     "metadata": {
      "needs_background": "light"
     },
     "output_type": "display_data"
    }
   ],
   "source": [
    "comparison1 = pd.DataFrame({\n",
    "    \"Classifier\": [\"Decision Tree\", \"kNN\",\"svm\",\"MLP\",\"Naives Bayes\",\"RandomForest\",\"XGBOOST\"],\n",
    "    \"Train_Accuracy\": [ a1, a2, a3, a4, a5,a6,a7], \n",
    "    \"Test_Accuracy\": [b1, b2, b3, b4, b5,b6,a7],\n",
    "})\n",
    "\n",
    "comparison2 = pd.DataFrame({\n",
    "    \"Classifier\": [\"Decision Tree\", \"kNN\",\"svm\",\"MLP\",\"Naives Bayes\",\"RandomForest\",\"XGBOOST\"],\n",
    "    \"Training Time\": [train1, train2, train3, train4, train5,train6,train7],\n",
    "    \"Test Time\": [test1, test2, test3, test4, test5,test6,test7],\n",
    "})\n",
    "\n",
    "\n",
    "print(comparison1)\n",
    "print()\n",
    "print()\n",
    "print(comparison2)\n",
    "print()\n",
    "print()\n",
    "ax = comparison1.plot.line(x='Classifier')\n",
    "bx = comparison2.plot.line(x='Classifier')"
   ]
  },
  {
   "cell_type": "code",
   "execution_count": null,
   "id": "f9074fca",
   "metadata": {},
   "outputs": [],
   "source": [
    "# we can see the testing times of all the classifiers And knn has more testing time and remaining classifiers have almost same testing time"
   ]
  },
  {
   "cell_type": "code",
   "execution_count": 40,
   "id": "28ef7593",
   "metadata": {},
   "outputs": [],
   "source": [
    "cl=df['Class'].value_counts()\n",
    "nf=cl[0]\n",
    "f=cl[1]\n",
    "# sampling techniques\n",
    "import numpy as np\n",
    "correct=df[df.Class==0].index\n",
    "fraud=np.array(df[df['Class']==1].index)\n",
    "co=np.random.choice(correct, f, replace=False)\n",
    "co = np.array(co)\n",
    "\n",
    "samples=np.concatenate([fraud,co])\n",
    "sampledata=df.iloc[samples,:]\n",
    "x_sampledata = sampledata.drop(['Class'], axis=1)\n",
    "y_sampledata = sampledata[['Class']]\n",
    "X_train_sample, X_test_sample, y_train_sample, y_test_sample = train_test_split(x_sampledata, y_sampledata, test_size=0.2, random_state=0)"
   ]
  },
  {
   "cell_type": "code",
   "execution_count": 41,
   "id": "d1d27859",
   "metadata": {},
   "outputs": [],
   "source": [
    "from sklearn.metrics import confusion_matrix\n",
    "from sklearn.metrics import classification_report\n"
   ]
  },
  {
   "cell_type": "code",
   "execution_count": 24,
   "id": "8a726110",
   "metadata": {},
   "outputs": [
    {
     "name": "stdout",
     "output_type": "stream",
     "text": [
      "[0. 1. 1. 1. 1. 1. 1. 0. 0. 1. 1. 1. 1. 0. 0. 0. 0. 1. 0. 1. 0. 1. 0. 1.\n",
      " 1. 0. 0. 1. 1. 0. 0. 0. 0. 1. 0. 0. 0. 0. 0. 0. 1. 1. 0. 1. 1. 1. 1. 0.\n",
      " 1. 0. 0. 1. 0. 1. 1. 1. 1. 0. 0. 1. 0. 1. 1. 1. 0. 1. 1. 0. 0. 0. 1. 0.\n",
      " 0. 0. 1. 0. 1. 0. 1. 0. 0. 1. 0. 0. 0. 0. 1. 1. 0. 0. 0. 1. 0. 1. 1. 1.\n",
      " 0. 1. 0. 0. 1. 0. 1. 1. 1. 1. 0. 0. 1. 1. 0. 0. 0. 1. 0. 0. 1. 1. 1. 0.\n",
      " 0. 1. 1. 1. 0. 0. 0. 0. 0. 0. 1. 1. 1. 0. 0. 1. 0. 1. 1. 1. 1. 1. 0. 1.\n",
      " 1. 0. 1. 0. 1. 0. 1. 0. 0. 0.]\n",
      "Training set accuracy: 1.0\n",
      "Test set accuracy: 0.8701298701298701\n",
      "0.12987012987012986\n",
      "confusion matrix:\n",
      " [[66  8]\n",
      " [12 68]]\n",
      "classification report\n",
      ":               precision    recall  f1-score   support\n",
      "\n",
      "         0.0       0.85      0.89      0.87        74\n",
      "         1.0       0.89      0.85      0.87        80\n",
      "\n",
      "    accuracy                           0.87       154\n",
      "   macro avg       0.87      0.87      0.87       154\n",
      "weighted avg       0.87      0.87      0.87       154\n",
      "\n",
      "AROC score: 0.870945945945946\n"
     ]
    }
   ],
   "source": [
    "#decision tree\n",
    "from sklearn.metrics import roc_auc_score\n",
    "clf1 = clf1.fit(X_train_sample,y_train_sample)\n",
    "a1 = clf1.score(X_train_sample,y_train_sample)\n",
    "b1 = clf1.score(X_test_sample,y_test_sample)\n",
    "y_sample_pred1 = clf1.predict(X_test_sample)\n",
    "print(y_sample_pred1)\n",
    "print(\"Training set accuracy:\",a1)\n",
    "print(\"Test set accuracy:\",b1)\n",
    "\n",
    "c1 = mean_squared_error(y_test_sample, y_sample_pred1)\n",
    "print(c1)\n",
    "\n",
    "\n",
    "print(\"confusion matrix:\\n\",confusion_matrix(y_test_sample,y_sample_pred1))\n",
    "print(\"classification report\\n:\",classification_report(y_test_sample,y_sample_pred1))\n",
    "print(\"AROC score:\",roc_auc_score(y_test_sample, y_sample_pred1))"
   ]
  },
  {
   "cell_type": "code",
   "execution_count": 25,
   "id": "87ddb282",
   "metadata": {},
   "outputs": [
    {
     "data": {
      "text/plain": [
       "0.870945945945946"
      ]
     },
     "execution_count": 25,
     "metadata": {},
     "output_type": "execute_result"
    }
   ],
   "source": [
    "r1=roc_auc_score(y_test_sample, y_sample_pred1)\n",
    "r1"
   ]
  },
  {
   "cell_type": "code",
   "execution_count": 26,
   "id": "853692f8",
   "metadata": {},
   "outputs": [
    {
     "name": "stderr",
     "output_type": "stream",
     "text": [
      "C:\\Users\\admin\\AppData\\Local\\Temp\\ipykernel_1068\\3066442331.py:4: DataConversionWarning: A column-vector y was passed when a 1d array was expected. Please change the shape of y to (n_samples,), for example using ravel().\n",
      "  rfc = rfc.fit(X_train_sample,y_train_sample)\n"
     ]
    },
    {
     "name": "stdout",
     "output_type": "stream",
     "text": [
      "[0. 1. 1. 1. 0. 1. 1. 0. 0. 1. 1. 0. 1. 1. 0. 0. 0. 1. 0. 1. 0. 1. 0. 1.\n",
      " 1. 0. 0. 0. 1. 0. 0. 0. 0. 1. 0. 0. 0. 0. 0. 1. 1. 0. 0. 1. 1. 1. 1. 0.\n",
      " 1. 0. 0. 1. 0. 1. 1. 1. 0. 0. 0. 1. 0. 1. 1. 1. 1. 1. 1. 0. 0. 0. 0. 0.\n",
      " 0. 0. 1. 0. 1. 0. 1. 0. 0. 1. 1. 0. 0. 0. 1. 1. 0. 0. 0. 1. 0. 1. 1. 1.\n",
      " 0. 1. 1. 0. 1. 0. 1. 1. 1. 1. 0. 0. 1. 1. 0. 1. 0. 0. 0. 0. 1. 1. 1. 0.\n",
      " 1. 1. 1. 1. 0. 0. 0. 0. 0. 0. 1. 1. 1. 0. 0. 1. 0. 1. 1. 1. 1. 1. 0. 1.\n",
      " 1. 0. 1. 0. 0. 0. 1. 0. 0. 0.]\n",
      "Training set accuracy: 1.0\n",
      "Test set accuracy: 0.9285714285714286\n",
      "0.07142857142857142\n",
      "confusion matrix:\n",
      " [[71  3]\n",
      " [ 8 72]]\n",
      "classification report\n",
      ":               precision    recall  f1-score   support\n",
      "\n",
      "         0.0       0.90      0.96      0.93        74\n",
      "         1.0       0.96      0.90      0.93        80\n",
      "\n",
      "    accuracy                           0.93       154\n",
      "   macro avg       0.93      0.93      0.93       154\n",
      "weighted avg       0.93      0.93      0.93       154\n",
      "\n",
      "AROC score: 0.9297297297297297\n"
     ]
    }
   ],
   "source": [
    "#RANDOM FOREST\n",
    "from sklearn.ensemble import RandomForestClassifier\n",
    "rfc = RandomForestClassifier()\n",
    "rfc.fit(X_train,y_train)\n",
    "rfc = rfc.fit(X_train_sample,y_train_sample)\n",
    "a2 = rfc.score(X_train_sample,y_train_sample)\n",
    "b2 = rfc.score(X_test_sample,y_test_sample)\n",
    "y_sample_pred2 = rfc.predict(X_test_sample)\n",
    "print(y_sample_pred2)\n",
    "print(\"Training set accuracy:\",a2)\n",
    "print(\"Test set accuracy:\",b2)\n",
    "\n",
    "c2 = mean_squared_error(y_test_sample, y_sample_pred2)\n",
    "print(c2)\n",
    "\n",
    "\n",
    "print(\"confusion matrix:\\n\",confusion_matrix(y_test_sample,y_sample_pred2))\n",
    "print(\"classification report\\n:\",classification_report(y_test_sample,y_sample_pred2))\n",
    "print(\"AROC score:\",roc_auc_score(y_test_sample, y_sample_pred2))"
   ]
  },
  {
   "cell_type": "code",
   "execution_count": 27,
   "id": "36f18740",
   "metadata": {},
   "outputs": [
    {
     "data": {
      "text/plain": [
       "0.9297297297297297"
      ]
     },
     "execution_count": 27,
     "metadata": {},
     "output_type": "execute_result"
    }
   ],
   "source": [
    "#random forest\n",
    "r2=roc_auc_score(y_test_sample, y_sample_pred2)\n",
    "r2"
   ]
  },
  {
   "cell_type": "code",
   "execution_count": 28,
   "id": "85070ffd",
   "metadata": {},
   "outputs": [
    {
     "name": "stderr",
     "output_type": "stream",
     "text": [
      "C:\\Users\\admin\\anaconda3\\lib\\site-packages\\sklearn\\utils\\validation.py:993: DataConversionWarning: A column-vector y was passed when a 1d array was expected. Please change the shape of y to (n_samples, ), for example using ravel().\n",
      "  y = column_or_1d(y, warn=True)\n"
     ]
    },
    {
     "name": "stdout",
     "output_type": "stream",
     "text": [
      "[1. 0. 0. 1. 0. 1. 0. 1. 0. 0. 1. 0. 0. 1. 0. 0. 0. 1. 0. 0. 0. 0. 0. 0.\n",
      " 1. 0. 0. 0. 1. 0. 0. 0. 0. 0. 0. 0. 0. 0. 0. 1. 0. 0. 1. 0. 1. 0. 0. 0.\n",
      " 0. 1. 1. 0. 0. 0. 0. 1. 1. 0. 0. 0. 0. 0. 0. 0. 0. 0. 0. 0. 1. 1. 0. 0.\n",
      " 0. 0. 0. 0. 0. 0. 0. 0. 0. 0. 1. 0. 0. 0. 0. 1. 1. 0. 0. 0. 0. 1. 0. 0.\n",
      " 0. 0. 1. 1. 0. 0. 1. 1. 0. 0. 0. 0. 0. 1. 0. 0. 0. 0. 0. 0. 0. 0. 0. 0.\n",
      " 0. 0. 0. 0. 0. 1. 1. 0. 0. 0. 1. 1. 0. 0. 0. 1. 0. 1. 0. 0. 0. 0. 1. 1.\n",
      " 1. 0. 1. 0. 0. 0. 0. 0. 0. 0.]\n",
      "Training set accuracy: 0.5487012987012987\n",
      "Test set accuracy: 0.551948051948052\n",
      "0.44805194805194803\n",
      "confusion matrix:\n",
      " [[61 13]\n",
      " [56 24]]\n",
      "classification report\n",
      ":               precision    recall  f1-score   support\n",
      "\n",
      "         0.0       0.52      0.82      0.64        74\n",
      "         1.0       0.65      0.30      0.41        80\n",
      "\n",
      "    accuracy                           0.55       154\n",
      "   macro avg       0.59      0.56      0.52       154\n",
      "weighted avg       0.59      0.55      0.52       154\n",
      "\n",
      "AROC score: 0.5621621621621622\n"
     ]
    }
   ],
   "source": [
    "#svm\n",
    "clf3 = clf3.fit(X_train_sample,y_train_sample)\n",
    "a3 = clf3.score(X_train_sample,y_train_sample)\n",
    "b3 = clf3.score(X_test_sample,y_test_sample)\n",
    "y_sample_pred3 = clf3.predict(X_test_sample)\n",
    "print(y_sample_pred3)\n",
    "print(\"Training set accuracy:\",a3)\n",
    "print(\"Test set accuracy:\",b3)\n",
    "\n",
    "c3 = mean_squared_error(y_test_sample, y_sample_pred3)\n",
    "print(c3)\n",
    "\n",
    "\n",
    "print(\"confusion matrix:\\n\",confusion_matrix(y_test_sample,y_sample_pred3))\n",
    "print(\"classification report\\n:\",classification_report(y_test_sample,y_sample_pred3))\n",
    "print(\"AROC score:\",roc_auc_score(y_test_sample, y_sample_pred3))"
   ]
  },
  {
   "cell_type": "code",
   "execution_count": 29,
   "id": "2b025db7",
   "metadata": {},
   "outputs": [
    {
     "data": {
      "text/plain": [
       "0.5621621621621622"
      ]
     },
     "execution_count": 29,
     "metadata": {},
     "output_type": "execute_result"
    }
   ],
   "source": [
    "r3=roc_auc_score(y_test_sample, y_sample_pred3)\n",
    "r3"
   ]
  },
  {
   "cell_type": "code",
   "execution_count": 30,
   "id": "74e0b453",
   "metadata": {},
   "outputs": [
    {
     "name": "stderr",
     "output_type": "stream",
     "text": [
      "C:\\Users\\admin\\anaconda3\\lib\\site-packages\\sklearn\\neural_network\\_multilayer_perceptron.py:1109: DataConversionWarning: A column-vector y was passed when a 1d array was expected. Please change the shape of y to (n_samples, ), for example using ravel().\n",
      "  y = column_or_1d(y, warn=True)\n"
     ]
    },
    {
     "name": "stdout",
     "output_type": "stream",
     "text": [
      "[1. 1. 1. 1. 1. 1. 1. 1. 1. 1. 1. 1. 1. 1. 1. 1. 1. 1. 1. 1. 1. 1. 1. 1.\n",
      " 1. 1. 1. 1. 1. 1. 1. 1. 1. 1. 1. 1. 1. 1. 1. 1. 1. 1. 1. 1. 1. 1. 1. 1.\n",
      " 1. 1. 1. 1. 1. 1. 1. 1. 0. 1. 1. 1. 1. 1. 1. 1. 1. 1. 1. 1. 1. 1. 1. 1.\n",
      " 1. 1. 1. 1. 1. 1. 1. 1. 1. 1. 1. 1. 1. 1. 1. 1. 1. 1. 1. 1. 1. 1. 1. 1.\n",
      " 1. 1. 1. 1. 1. 1. 1. 1. 1. 1. 1. 1. 1. 1. 1. 1. 1. 1. 1. 1. 1. 1. 1. 1.\n",
      " 1. 1. 1. 1. 1. 1. 1. 1. 1. 1. 1. 1. 1. 1. 1. 1. 1. 1. 1. 1. 1. 1. 1. 1.\n",
      " 1. 1. 1. 1. 1. 1. 1. 1. 1. 1.]\n",
      "Training set accuracy: 0.49512987012987014\n",
      "Test set accuracy: 0.512987012987013\n",
      "0.487012987012987\n",
      "confusion matrix:\n",
      " [[ 0 74]\n",
      " [ 1 79]]\n",
      "classification report\n",
      ":               precision    recall  f1-score   support\n",
      "\n",
      "         0.0       0.00      0.00      0.00        74\n",
      "         1.0       0.52      0.99      0.68        80\n",
      "\n",
      "    accuracy                           0.51       154\n",
      "   macro avg       0.26      0.49      0.34       154\n",
      "weighted avg       0.27      0.51      0.35       154\n",
      "\n",
      "AROC score: 0.49375\n"
     ]
    }
   ],
   "source": [
    "#MLP\n",
    "clf4 = clf4.fit(X_train_sample,y_train_sample)\n",
    "a4 = clf4.score(X_train_sample,y_train_sample)\n",
    "b4 = clf4.score(X_test_sample,y_test_sample)\n",
    "y_sample_pred4 = clf4.predict(X_test_sample)\n",
    "print(y_sample_pred4)\n",
    "print(\"Training set accuracy:\",a4)\n",
    "print(\"Test set accuracy:\",b4)\n",
    "\n",
    "c4 = mean_squared_error(y_test_sample, y_sample_pred4)\n",
    "print(c4)\n",
    "\n",
    "\n",
    "print(\"confusion matrix:\\n\",confusion_matrix(y_test_sample,y_sample_pred4))\n",
    "print(\"classification report\\n:\",classification_report(y_test_sample,y_sample_pred4))\n",
    "print(\"AROC score:\",roc_auc_score(y_test_sample, y_sample_pred4))"
   ]
  },
  {
   "cell_type": "code",
   "execution_count": 31,
   "id": "da3043d0",
   "metadata": {},
   "outputs": [
    {
     "data": {
      "text/plain": [
       "0.49375"
      ]
     },
     "execution_count": 31,
     "metadata": {},
     "output_type": "execute_result"
    }
   ],
   "source": [
    "r4=roc_auc_score(y_test_sample, y_sample_pred4)\n",
    "r4"
   ]
  },
  {
   "cell_type": "code",
   "execution_count": 32,
   "id": "4b401490",
   "metadata": {},
   "outputs": [
    {
     "name": "stdout",
     "output_type": "stream",
     "text": [
      "[0. 1. 1. 1. 0. 0. 1. 0. 0. 1. 1. 0. 1. 0. 0. 0. 0. 1. 0. 1. 0. 1. 0. 0.\n",
      " 1. 0. 0. 0. 1. 0. 0. 0. 0. 1. 0. 0. 0. 0. 0. 0. 1. 0. 0. 1. 1. 1. 1. 0.\n",
      " 0. 0. 0. 1. 0. 1. 0. 1. 0. 0. 0. 1. 0. 1. 1. 1. 0. 1. 1. 0. 0. 0. 0. 0.\n",
      " 0. 0. 1. 0. 1. 0. 1. 0. 0. 1. 0. 0. 0. 0. 1. 1. 0. 0. 0. 1. 0. 1. 1. 1.\n",
      " 0. 1. 0. 0. 1. 0. 1. 1. 1. 1. 0. 0. 1. 0. 0. 0. 0. 0. 0. 0. 0. 0. 0. 0.\n",
      " 0. 1. 1. 1. 0. 0. 0. 0. 0. 0. 1. 1. 1. 0. 0. 1. 0. 1. 1. 1. 1. 1. 0. 1.\n",
      " 1. 0. 1. 0. 0. 0. 1. 0. 0. 0.]\n",
      "Training set accuracy: 0.9155844155844156\n",
      "Test set accuracy: 0.8701298701298701\n",
      "0.12987012987012986\n",
      "confusion matrix:\n",
      " [[74  0]\n",
      " [20 60]]\n",
      "classification report\n",
      ":               precision    recall  f1-score   support\n",
      "\n",
      "         0.0       0.79      1.00      0.88        74\n",
      "         1.0       1.00      0.75      0.86        80\n",
      "\n",
      "    accuracy                           0.87       154\n",
      "   macro avg       0.89      0.88      0.87       154\n",
      "weighted avg       0.90      0.87      0.87       154\n",
      "\n",
      "AROC score: 0.875\n"
     ]
    },
    {
     "name": "stderr",
     "output_type": "stream",
     "text": [
      "C:\\Users\\admin\\anaconda3\\lib\\site-packages\\sklearn\\utils\\validation.py:993: DataConversionWarning: A column-vector y was passed when a 1d array was expected. Please change the shape of y to (n_samples, ), for example using ravel().\n",
      "  y = column_or_1d(y, warn=True)\n"
     ]
    }
   ],
   "source": [
    "#Naive Bayes\n",
    "clf5 = clf5.fit(X_train_sample,y_train_sample)\n",
    "a5 = clf5.score(X_train_sample,y_train_sample)\n",
    "b5 = clf5.score(X_test_sample,y_test_sample)\n",
    "y_sample_pred5 = clf5.predict(X_test_sample)\n",
    "print(y_sample_pred5)\n",
    "print(\"Training set accuracy:\",a5)\n",
    "print(\"Test set accuracy:\",b5)\n",
    "\n",
    "c5 = mean_squared_error(y_test_sample, y_sample_pred5)\n",
    "print(c5)\n",
    "\n",
    "\n",
    "print(\"confusion matrix:\\n\",confusion_matrix(y_test_sample,y_sample_pred5))\n",
    "print(\"classification report\\n:\",classification_report(y_test_sample,y_sample_pred5))\n",
    "print(\"AROC score:\",roc_auc_score(y_test_sample, y_sample_pred5))"
   ]
  },
  {
   "cell_type": "code",
   "execution_count": 33,
   "id": "a5c91d93",
   "metadata": {},
   "outputs": [
    {
     "data": {
      "text/plain": [
       "0.875"
      ]
     },
     "execution_count": 33,
     "metadata": {},
     "output_type": "execute_result"
    }
   ],
   "source": [
    "r5=roc_auc_score(y_test_sample, y_sample_pred5)\n",
    "r5"
   ]
  },
  {
   "cell_type": "code",
   "execution_count": 42,
   "id": "46c6a34b",
   "metadata": {},
   "outputs": [
    {
     "name": "stdout",
     "output_type": "stream",
     "text": [
      "[0 1 1 1 0 1 1 1 0 1 1 0 1 0 0 0 0 1 0 1 0 1 0 1 1 0 0 0 1 0 0 0 0 1 0 0 0\n",
      " 0 0 0 1 1 0 1 1 1 1 0 1 0 0 1 0 1 0 1 1 0 0 1 0 1 1 1 1 1 1 0 0 0 0 0 0 0\n",
      " 1 0 1 0 1 0 0 1 1 0 0 0 1 1 0 0 0 1 0 1 1 1 0 1 1 0 1 0 1 1 1 1 0 0 1 1 0\n",
      " 1 0 0 0 0 0 1 1 0 1 1 1 1 0 0 0 0 0 0 1 1 1 0 0 1 0 1 1 1 1 1 0 1 1 0 1 0\n",
      " 1 0 1 0 0 0]\n",
      "Training set accuracy: 1.0\n",
      "Test set accuracy: 0.9415584415584416\n",
      "0.05844155844155844\n",
      "confusion matrix:\n",
      " [[72  2]\n",
      " [ 7 73]]\n",
      "classification report\n",
      ":               precision    recall  f1-score   support\n",
      "\n",
      "         0.0       0.91      0.97      0.94        74\n",
      "         1.0       0.97      0.91      0.94        80\n",
      "\n",
      "    accuracy                           0.94       154\n",
      "   macro avg       0.94      0.94      0.94       154\n",
      "weighted avg       0.94      0.94      0.94       154\n",
      "\n",
      "AROC score: 0.9427364864864866\n"
     ]
    }
   ],
   "source": [
    "#XGBOOST\n",
    "xg = xg.fit(X_train_sample,y_train_sample)\n",
    "a7 = xg.score(X_train_sample,y_train_sample)\n",
    "b7 = xg.score(X_test_sample,y_test_sample)\n",
    "y_sample_pred7 = xg.predict(X_test_sample)\n",
    "print(y_sample_pred7)\n",
    "print(\"Training set accuracy:\",a7)\n",
    "print(\"Test set accuracy:\",b7)\n",
    "\n",
    "c7 = mean_squared_error(y_test_sample, y_sample_pred7)\n",
    "print(c7)\n",
    "\n",
    "\n",
    "print(\"confusion matrix:\\n\",confusion_matrix(y_test_sample,y_sample_pred7))\n",
    "print(\"classification report\\n:\",classification_report(y_test_sample,y_sample_pred7))\n",
    "print(\"AROC score:\",roc_auc_score(y_test_sample, y_sample_pred7))"
   ]
  },
  {
   "cell_type": "code",
   "execution_count": 44,
   "id": "c1ff703e",
   "metadata": {},
   "outputs": [
    {
     "data": {
      "text/plain": [
       "0.9427364864864866"
      ]
     },
     "execution_count": 44,
     "metadata": {},
     "output_type": "execute_result"
    }
   ],
   "source": [
    "r7=roc_auc_score(y_test_sample, y_sample_pred7)\n",
    "r7"
   ]
  },
  {
   "cell_type": "code",
   "execution_count": null,
   "id": "513fb444",
   "metadata": {},
   "outputs": [],
   "source": [
    "#PLOT SHOWING ACCURACIES COMAPRISION AFTER SAMPLING"
   ]
  },
  {
   "cell_type": "code",
   "execution_count": 43,
   "id": "cddd1ff0",
   "metadata": {},
   "outputs": [
    {
     "name": "stdout",
     "output_type": "stream",
     "text": [
      "      Classifier  Train_Accuracy  Test_Accuracy  Mean Squared Error\n",
      "0  Decision Tree        1.000000       0.870130            0.129870\n",
      "1   Randomforest        1.000000       0.928571            0.071429\n",
      "2            svm        0.548701       0.551948            0.448052\n",
      "3            MLP        0.495130       0.512987            0.487013\n",
      "4   Naives Bayes        0.915584       0.870130            0.129870\n",
      "5        XGBOOST        1.000000       0.941558            0.058442\n",
      "\n"
     ]
    },
    {
     "data": {
      "image/png": "[encoded data removed]",
      "text/plain": [
       "<Figure size 432x288 with 1 Axes>"
      ]
     },
     "metadata": {
      "needs_background": "light"
     },
     "output_type": "display_data"
    }
   ],
   "source": [
    "import matplotlib.pyplot as plt\n",
    "d = pd.DataFrame({\n",
    "    \"Classifier\": [ \"Decision Tree\",\"Randomforest\",\"svm\",\"MLP\",\"Naives Bayes\",\"XGBOOST\"],\n",
    "    \"Train_Accuracy\": [a1,a2,a3,a4,a5,a7], \n",
    "    \"Test_Accuracy\": [b1,b2, b3,b4,b5,b7],\n",
    "    \"Mean Squared Error\": [c1,c2,c3,c4,c5,c7]\n",
    "})\n",
    "print(d)\n",
    "print()\n",
    "dx = d.plot.line(x='Classifier')"
   ]
  },
  {
   "cell_type": "code",
   "execution_count": null,
   "id": "0eed7c06",
   "metadata": {},
   "outputs": [],
   "source": [
    "# After sampling, if we look at the accuracies, DECISION TREE, RANDOM FOREST, XGBOOST HAVE MORE ACCURACIES."
   ]
  },
  {
   "cell_type": "code",
   "execution_count": null,
   "id": "2e4ff0fa",
   "metadata": {},
   "outputs": [],
   "source": [
    "#PLOT SHOWING AROC VALUES OF DIFFERENT CLASSIFIERS"
   ]
  },
  {
   "cell_type": "code",
   "execution_count": 45,
   "id": "9147530a",
   "metadata": {},
   "outputs": [
    {
     "name": "stdout",
     "output_type": "stream",
     "text": [
      "      Classifier  AROC curve\n",
      "0  Decision Tree    0.870946\n",
      "1  random forest    0.929730\n",
      "2            svm    0.562162\n",
      "3            MLP    0.493750\n",
      "4   Naives Bayes    0.875000\n",
      "5        XGBOOST    0.942736\n",
      "\n"
     ]
    },
    {
     "data": {
      "image/png": "[encoded data removed]",
      "text/plain": [
       "<Figure size 432x288 with 1 Axes>"
      ]
     },
     "metadata": {
      "needs_background": "light"
     },
     "output_type": "display_data"
    }
   ],
   "source": [
    "d1 = pd.DataFrame({\n",
    "    \"Classifier\": [ \"Decision Tree\",\"random forest\",\"svm\",\"MLP\",\"Naives Bayes\",\"XGBOOST\"],\n",
    "    \"AROC curve\": [r1,r2,r3,r4,r5,r7] \n",
    "    \n",
    "})\n",
    "print(d1)\n",
    "print()\n",
    "dx1 = d1.plot.line(x='Classifier')"
   ]
  },
  {
   "cell_type": "code",
   "execution_count": null,
   "id": "f945ba84",
   "metadata": {},
   "outputs": [],
   "source": [
    "# Seeing the AROC values, XGBOOST>RANDOMFOREST>DECISIONTREE>NAIVE BAYES>MLP>SVM"
   ]
  },
  {
   "cell_type": "code",
   "execution_count": 12,
   "id": "093fbf06",
   "metadata": {},
   "outputs": [
    {
     "data": {
      "text/html": [
       "<div>\n",
       "<style scoped>\n",
       "    .dataframe tbody tr th:only-of-type {\n",
       "        vertical-align: middle;\n",
       "    }\n",
       "\n",
       "    .dataframe tbody tr th {\n",
       "        vertical-align: top;\n",
       "    }\n",
       "\n",
       "    .dataframe thead th {\n",
       "        text-align: right;\n",
       "    }\n",
       "</style>\n",
       "<table border=\"1\" class=\"dataframe\">\n",
       "  <thead>\n",
       "    <tr style=\"text-align: right;\">\n",
       "      <th></th>\n",
       "      <th>Time</th>\n",
       "      <th>V1</th>\n",
       "      <th>V2</th>\n",
       "      <th>V3</th>\n",
       "      <th>V4</th>\n",
       "      <th>V5</th>\n",
       "      <th>V6</th>\n",
       "      <th>V7</th>\n",
       "      <th>V8</th>\n",
       "      <th>V9</th>\n",
       "      <th>...</th>\n",
       "      <th>V21</th>\n",
       "      <th>V22</th>\n",
       "      <th>V23</th>\n",
       "      <th>V24</th>\n",
       "      <th>V25</th>\n",
       "      <th>V26</th>\n",
       "      <th>V27</th>\n",
       "      <th>V28</th>\n",
       "      <th>Amount</th>\n",
       "      <th>Class</th>\n",
       "    </tr>\n",
       "  </thead>\n",
       "  <tbody>\n",
       "    <tr>\n",
       "      <th>68633</th>\n",
       "      <td>53076.0</td>\n",
       "      <td>1.296231</td>\n",
       "      <td>0.417447</td>\n",
       "      <td>0.193963</td>\n",
       "      <td>0.901644</td>\n",
       "      <td>0.130531</td>\n",
       "      <td>-0.371634</td>\n",
       "      <td>0.158126</td>\n",
       "      <td>-0.202669</td>\n",
       "      <td>-0.079512</td>\n",
       "      <td>...</td>\n",
       "      <td>-0.112114</td>\n",
       "      <td>-0.220002</td>\n",
       "      <td>-0.121022</td>\n",
       "      <td>-0.440454</td>\n",
       "      <td>0.671540</td>\n",
       "      <td>-0.413518</td>\n",
       "      <td>0.032838</td>\n",
       "      <td>0.020600</td>\n",
       "      <td>1.18</td>\n",
       "      <td>1.0</td>\n",
       "    </tr>\n",
       "    <tr>\n",
       "      <th>14211</th>\n",
       "      <td>25254.0</td>\n",
       "      <td>-17.275191</td>\n",
       "      <td>10.819665</td>\n",
       "      <td>-20.363886</td>\n",
       "      <td>6.046612</td>\n",
       "      <td>-13.465033</td>\n",
       "      <td>-4.166647</td>\n",
       "      <td>-14.409448</td>\n",
       "      <td>11.580797</td>\n",
       "      <td>-4.073856</td>\n",
       "      <td>...</td>\n",
       "      <td>1.729804</td>\n",
       "      <td>-1.208096</td>\n",
       "      <td>-0.726839</td>\n",
       "      <td>0.112540</td>\n",
       "      <td>1.119193</td>\n",
       "      <td>-0.233189</td>\n",
       "      <td>1.684063</td>\n",
       "      <td>0.503740</td>\n",
       "      <td>99.99</td>\n",
       "      <td>1.0</td>\n",
       "    </tr>\n",
       "    <tr>\n",
       "      <th>120505</th>\n",
       "      <td>75851.0</td>\n",
       "      <td>-4.793667</td>\n",
       "      <td>3.418911</td>\n",
       "      <td>-5.074445</td>\n",
       "      <td>4.035987</td>\n",
       "      <td>-3.527875</td>\n",
       "      <td>-1.923242</td>\n",
       "      <td>-5.065981</td>\n",
       "      <td>1.996885</td>\n",
       "      <td>-3.097379</td>\n",
       "      <td>...</td>\n",
       "      <td>1.168618</td>\n",
       "      <td>0.289531</td>\n",
       "      <td>-0.371888</td>\n",
       "      <td>0.144761</td>\n",
       "      <td>0.084735</td>\n",
       "      <td>-0.197431</td>\n",
       "      <td>0.328672</td>\n",
       "      <td>0.835395</td>\n",
       "      <td>99.85</td>\n",
       "      <td>1.0</td>\n",
       "    </tr>\n",
       "    <tr>\n",
       "      <th>46909</th>\n",
       "      <td>42985.0</td>\n",
       "      <td>-4.075975</td>\n",
       "      <td>0.963031</td>\n",
       "      <td>-5.076070</td>\n",
       "      <td>4.955963</td>\n",
       "      <td>-0.161437</td>\n",
       "      <td>-2.832663</td>\n",
       "      <td>-7.619765</td>\n",
       "      <td>1.618895</td>\n",
       "      <td>-2.992092</td>\n",
       "      <td>...</td>\n",
       "      <td>1.030738</td>\n",
       "      <td>0.165328</td>\n",
       "      <td>-1.017502</td>\n",
       "      <td>-0.477983</td>\n",
       "      <td>-0.304987</td>\n",
       "      <td>-0.106089</td>\n",
       "      <td>1.899714</td>\n",
       "      <td>0.511462</td>\n",
       "      <td>1.00</td>\n",
       "      <td>1.0</td>\n",
       "    </tr>\n",
       "    <tr>\n",
       "      <th>74794</th>\n",
       "      <td>55760.0</td>\n",
       "      <td>-6.003422</td>\n",
       "      <td>-3.930731</td>\n",
       "      <td>-0.007045</td>\n",
       "      <td>1.714669</td>\n",
       "      <td>3.414667</td>\n",
       "      <td>-2.329583</td>\n",
       "      <td>-1.901512</td>\n",
       "      <td>-2.746111</td>\n",
       "      <td>0.887673</td>\n",
       "      <td>...</td>\n",
       "      <td>1.101671</td>\n",
       "      <td>-0.992494</td>\n",
       "      <td>-0.698259</td>\n",
       "      <td>0.139898</td>\n",
       "      <td>-0.205151</td>\n",
       "      <td>-0.472412</td>\n",
       "      <td>1.775378</td>\n",
       "      <td>-0.104285</td>\n",
       "      <td>311.91</td>\n",
       "      <td>1.0</td>\n",
       "    </tr>\n",
       "    <tr>\n",
       "      <th>...</th>\n",
       "      <td>...</td>\n",
       "      <td>...</td>\n",
       "      <td>...</td>\n",
       "      <td>...</td>\n",
       "      <td>...</td>\n",
       "      <td>...</td>\n",
       "      <td>...</td>\n",
       "      <td>...</td>\n",
       "      <td>...</td>\n",
       "      <td>...</td>\n",
       "      <td>...</td>\n",
       "      <td>...</td>\n",
       "      <td>...</td>\n",
       "      <td>...</td>\n",
       "      <td>...</td>\n",
       "      <td>...</td>\n",
       "      <td>...</td>\n",
       "      <td>...</td>\n",
       "      <td>...</td>\n",
       "      <td>...</td>\n",
       "      <td>...</td>\n",
       "    </tr>\n",
       "    <tr>\n",
       "      <th>118535</th>\n",
       "      <td>75117.0</td>\n",
       "      <td>0.513775</td>\n",
       "      <td>-1.850612</td>\n",
       "      <td>-0.399994</td>\n",
       "      <td>-0.077888</td>\n",
       "      <td>-1.291490</td>\n",
       "      <td>-0.886463</td>\n",
       "      <td>0.446140</td>\n",
       "      <td>-0.464147</td>\n",
       "      <td>-0.976971</td>\n",
       "      <td>...</td>\n",
       "      <td>-0.159854</td>\n",
       "      <td>-0.861899</td>\n",
       "      <td>-0.422041</td>\n",
       "      <td>0.478578</td>\n",
       "      <td>0.291343</td>\n",
       "      <td>1.040059</td>\n",
       "      <td>-0.150619</td>\n",
       "      <td>0.080123</td>\n",
       "      <td>468.70</td>\n",
       "      <td>0.0</td>\n",
       "    </tr>\n",
       "    <tr>\n",
       "      <th>173688</th>\n",
       "      <td>121601.0</td>\n",
       "      <td>1.973834</td>\n",
       "      <td>-0.547721</td>\n",
       "      <td>-0.532265</td>\n",
       "      <td>0.245136</td>\n",
       "      <td>-0.457054</td>\n",
       "      <td>0.187423</td>\n",
       "      <td>-0.789038</td>\n",
       "      <td>0.203621</td>\n",
       "      <td>1.388542</td>\n",
       "      <td>...</td>\n",
       "      <td>0.193535</td>\n",
       "      <td>0.749558</td>\n",
       "      <td>0.033098</td>\n",
       "      <td>-0.799409</td>\n",
       "      <td>-0.073442</td>\n",
       "      <td>-0.179182</td>\n",
       "      <td>0.034539</td>\n",
       "      <td>-0.056260</td>\n",
       "      <td>9.99</td>\n",
       "      <td>0.0</td>\n",
       "    </tr>\n",
       "    <tr>\n",
       "      <th>59882</th>\n",
       "      <td>49049.0</td>\n",
       "      <td>1.094323</td>\n",
       "      <td>-0.371623</td>\n",
       "      <td>0.742534</td>\n",
       "      <td>0.508448</td>\n",
       "      <td>-0.493810</td>\n",
       "      <td>0.570849</td>\n",
       "      <td>-0.591887</td>\n",
       "      <td>0.170384</td>\n",
       "      <td>0.764535</td>\n",
       "      <td>...</td>\n",
       "      <td>0.111959</td>\n",
       "      <td>0.419562</td>\n",
       "      <td>-0.191514</td>\n",
       "      <td>-0.680691</td>\n",
       "      <td>0.370129</td>\n",
       "      <td>0.645504</td>\n",
       "      <td>0.013787</td>\n",
       "      <td>0.024204</td>\n",
       "      <td>70.40</td>\n",
       "      <td>0.0</td>\n",
       "    </tr>\n",
       "    <tr>\n",
       "      <th>54447</th>\n",
       "      <td>46454.0</td>\n",
       "      <td>-0.661414</td>\n",
       "      <td>1.011692</td>\n",
       "      <td>1.220626</td>\n",
       "      <td>-0.241500</td>\n",
       "      <td>0.921103</td>\n",
       "      <td>1.080275</td>\n",
       "      <td>0.590673</td>\n",
       "      <td>0.311048</td>\n",
       "      <td>-0.083845</td>\n",
       "      <td>...</td>\n",
       "      <td>-0.226521</td>\n",
       "      <td>-0.184948</td>\n",
       "      <td>0.084277</td>\n",
       "      <td>-1.015644</td>\n",
       "      <td>-0.448680</td>\n",
       "      <td>0.176607</td>\n",
       "      <td>0.263257</td>\n",
       "      <td>-0.080760</td>\n",
       "      <td>8.99</td>\n",
       "      <td>0.0</td>\n",
       "    </tr>\n",
       "    <tr>\n",
       "      <th>1911</th>\n",
       "      <td>1472.0</td>\n",
       "      <td>-4.422952</td>\n",
       "      <td>-4.841034</td>\n",
       "      <td>2.071464</td>\n",
       "      <td>1.681590</td>\n",
       "      <td>5.036754</td>\n",
       "      <td>-3.047061</td>\n",
       "      <td>-2.226676</td>\n",
       "      <td>0.447233</td>\n",
       "      <td>-0.807602</td>\n",
       "      <td>...</td>\n",
       "      <td>0.248325</td>\n",
       "      <td>-1.109773</td>\n",
       "      <td>1.366868</td>\n",
       "      <td>-0.068259</td>\n",
       "      <td>-0.374771</td>\n",
       "      <td>0.330559</td>\n",
       "      <td>-0.387578</td>\n",
       "      <td>-0.009215</td>\n",
       "      <td>140.55</td>\n",
       "      <td>0.0</td>\n",
       "    </tr>\n",
       "  </tbody>\n",
       "</table>\n",
       "<p>600 rows × 31 columns</p>\n",
       "</div>"
      ],
      "text/plain": [
       "            Time         V1         V2         V3        V4         V5  \\\n",
       "68633    53076.0   1.296231   0.417447   0.193963  0.901644   0.130531   \n",
       "14211    25254.0 -17.275191  10.819665 -20.363886  6.046612 -13.465033   \n",
       "120505   75851.0  -4.793667   3.418911  -5.074445  4.035987  -3.527875   \n",
       "46909    42985.0  -4.075975   0.963031  -5.076070  4.955963  -0.161437   \n",
       "74794    55760.0  -6.003422  -3.930731  -0.007045  1.714669   3.414667   \n",
       "...          ...        ...        ...        ...       ...        ...   \n",
       "118535   75117.0   0.513775  -1.850612  -0.399994 -0.077888  -1.291490   \n",
       "173688  121601.0   1.973834  -0.547721  -0.532265  0.245136  -0.457054   \n",
       "59882    49049.0   1.094323  -0.371623   0.742534  0.508448  -0.493810   \n",
       "54447    46454.0  -0.661414   1.011692   1.220626 -0.241500   0.921103   \n",
       "1911      1472.0  -4.422952  -4.841034   2.071464  1.681590   5.036754   \n",
       "\n",
       "              V6         V7         V8        V9  ...       V21       V22  \\\n",
       "68633  -0.371634   0.158126  -0.202669 -0.079512  ... -0.112114 -0.220002   \n",
       "14211  -4.166647 -14.409448  11.580797 -4.073856  ...  1.729804 -1.208096   \n",
       "120505 -1.923242  -5.065981   1.996885 -3.097379  ...  1.168618  0.289531   \n",
       "46909  -2.832663  -7.619765   1.618895 -2.992092  ...  1.030738  0.165328   \n",
       "74794  -2.329583  -1.901512  -2.746111  0.887673  ...  1.101671 -0.992494   \n",
       "...          ...        ...        ...       ...  ...       ...       ...   \n",
       "118535 -0.886463   0.446140  -0.464147 -0.976971  ... -0.159854 -0.861899   \n",
       "173688  0.187423  -0.789038   0.203621  1.388542  ...  0.193535  0.749558   \n",
       "59882   0.570849  -0.591887   0.170384  0.764535  ...  0.111959  0.419562   \n",
       "54447   1.080275   0.590673   0.311048 -0.083845  ... -0.226521 -0.184948   \n",
       "1911   -3.047061  -2.226676   0.447233 -0.807602  ...  0.248325 -1.109773   \n",
       "\n",
       "             V23       V24       V25       V26       V27       V28  Amount  \\\n",
       "68633  -0.121022 -0.440454  0.671540 -0.413518  0.032838  0.020600    1.18   \n",
       "14211  -0.726839  0.112540  1.119193 -0.233189  1.684063  0.503740   99.99   \n",
       "120505 -0.371888  0.144761  0.084735 -0.197431  0.328672  0.835395   99.85   \n",
       "46909  -1.017502 -0.477983 -0.304987 -0.106089  1.899714  0.511462    1.00   \n",
       "74794  -0.698259  0.139898 -0.205151 -0.472412  1.775378 -0.104285  311.91   \n",
       "...          ...       ...       ...       ...       ...       ...     ...   \n",
       "118535 -0.422041  0.478578  0.291343  1.040059 -0.150619  0.080123  468.70   \n",
       "173688  0.033098 -0.799409 -0.073442 -0.179182  0.034539 -0.056260    9.99   \n",
       "59882  -0.191514 -0.680691  0.370129  0.645504  0.013787  0.024204   70.40   \n",
       "54447   0.084277 -1.015644 -0.448680  0.176607  0.263257 -0.080760    8.99   \n",
       "1911    1.366868 -0.068259 -0.374771  0.330559 -0.387578 -0.009215  140.55   \n",
       "\n",
       "        Class  \n",
       "68633     1.0  \n",
       "14211     1.0  \n",
       "120505    1.0  \n",
       "46909     1.0  \n",
       "74794     1.0  \n",
       "...       ...  \n",
       "118535    0.0  \n",
       "173688    0.0  \n",
       "59882     0.0  \n",
       "54447     0.0  \n",
       "1911      0.0  \n",
       "\n",
       "[600 rows x 31 columns]"
      ]
     },
     "execution_count": 12,
     "metadata": {},
     "output_type": "execute_result"
    }
   ],
   "source": [
    "l1 = df[df.Class == 1].sample(300)\n",
    "l2=df[df.Class == 0].sample(300)\n",
    "frames=[l1,l2]\n",
    "l=pd.concat(frames)\n",
    "l"
   ]
  },
  {
   "cell_type": "code",
   "execution_count": 13,
   "id": "14216dfb",
   "metadata": {},
   "outputs": [
    {
     "data": {
      "text/plain": [
       "KNeighborsClassifier(n_neighbors=3)"
      ]
     },
     "execution_count": 13,
     "metadata": {},
     "output_type": "execute_result"
    }
   ],
   "source": [
    "from sklearn.feature_selection import SequentialFeatureSelector\n",
    "from sklearn.neighbors import KNeighborsClassifier\n",
    "from sklearn.preprocessing import StandardScaler\n",
    "\n",
    "X1=l.drop(columns=['Class'],axis=1)\n",
    "y1=l['Class']\n",
    "from sklearn.model_selection import train_test_split\n",
    "X1_train, X1_test, y1_train, y1_test = train_test_split(X1, y1, test_size=0.3)\n",
    "sc=StandardScaler()\n",
    "X1_train_std=sc.fit_transform(X1_train)\n",
    "X1_test_std=sc.fit_transform(X1_test)\n",
    "\n",
    "m=KNeighborsClassifier(n_neighbors=3)\n",
    "m.fit(X1_train_std,y1_train)"
   ]
  },
  {
   "cell_type": "code",
   "execution_count": 7,
   "id": "ff878614",
   "metadata": {},
   "outputs": [
    {
     "name": "stdout",
     "output_type": "stream",
     "text": [
      "Requirement already satisfied: mlxtend in c:\\users\\admin\\anaconda3\\lib\\site-packages (0.21.0)\n",
      "Requirement already satisfied: pandas>=0.24.2 in c:\\users\\admin\\anaconda3\\lib\\site-packages (from mlxtend) (1.4.2)\n",
      "Requirement already satisfied: matplotlib>=3.0.0 in c:\\users\\admin\\anaconda3\\lib\\site-packages (from mlxtend) (3.5.1)\n",
      "Requirement already satisfied: joblib>=0.13.2 in c:\\users\\admin\\anaconda3\\lib\\site-packages (from mlxtend) (1.1.0)\n",
      "Requirement already satisfied: scipy>=1.2.1 in c:\\users\\admin\\anaconda3\\lib\\site-packages (from mlxtend) (1.7.3)\n",
      "Requirement already satisfied: scikit-learn>=1.0.2 in c:\\users\\admin\\anaconda3\\lib\\site-packages (from mlxtend) (1.0.2)\n",
      "Requirement already satisfied: setuptools in c:\\users\\admin\\anaconda3\\lib\\site-packages (from mlxtend) (61.2.0)\n",
      "Requirement already satisfied: numpy>=1.16.2 in c:\\users\\admin\\anaconda3\\lib\\site-packages (from mlxtend) (1.21.5)\n",
      "Requirement already satisfied: pillow>=6.2.0 in c:\\users\\admin\\anaconda3\\lib\\site-packages (from matplotlib>=3.0.0->mlxtend) (9.0.1)\n",
      "Requirement already satisfied: python-dateutil>=2.7 in c:\\users\\admin\\anaconda3\\lib\\site-packages (from matplotlib>=3.0.0->mlxtend) (2.8.2)\n",
      "Requirement already satisfied: packaging>=20.0 in c:\\users\\admin\\anaconda3\\lib\\site-packages (from matplotlib>=3.0.0->mlxtend) (21.3)\n",
      "Requirement already satisfied: pyparsing>=2.2.1 in c:\\users\\admin\\anaconda3\\lib\\site-packages (from matplotlib>=3.0.0->mlxtend) (3.0.4)\n",
      "Requirement already satisfied: kiwisolver>=1.0.1 in c:\\users\\admin\\anaconda3\\lib\\site-packages (from matplotlib>=3.0.0->mlxtend) (1.3.2)\n",
      "Requirement already satisfied: cycler>=0.10 in c:\\users\\admin\\anaconda3\\lib\\site-packages (from matplotlib>=3.0.0->mlxtend) (0.11.0)\n",
      "Requirement already satisfied: fonttools>=4.22.0 in c:\\users\\admin\\anaconda3\\lib\\site-packages (from matplotlib>=3.0.0->mlxtend) (4.25.0)\n",
      "Requirement already satisfied: pytz>=2020.1 in c:\\users\\admin\\anaconda3\\lib\\site-packages (from pandas>=0.24.2->mlxtend) (2021.3)\n",
      "Requirement already satisfied: six>=1.5 in c:\\users\\admin\\anaconda3\\lib\\site-packages (from python-dateutil>=2.7->matplotlib>=3.0.0->mlxtend) (1.16.0)\n",
      "Requirement already satisfied: threadpoolctl>=2.0.0 in c:\\users\\admin\\anaconda3\\lib\\site-packages (from scikit-learn>=1.0.2->mlxtend) (2.2.0)\n"
     ]
    }
   ],
   "source": [
    "! pip install mlxtend"
   ]
  },
  {
   "cell_type": "code",
   "execution_count": 14,
   "id": "95eca3f3",
   "metadata": {},
   "outputs": [],
   "source": [
    "from mlxtend.feature_selection import SequentialFeatureSelector as SFS"
   ]
  },
  {
   "cell_type": "code",
   "execution_count": 15,
   "id": "57624e9d",
   "metadata": {},
   "outputs": [
    {
     "name": "stderr",
     "output_type": "stream",
     "text": [
      "[Parallel(n_jobs=1)]: Using backend SequentialBackend with 1 concurrent workers.\n",
      "[Parallel(n_jobs=1)]: Done   1 out of   1 | elapsed:    0.0s remaining:    0.0s\n",
      "[Parallel(n_jobs=1)]: Done  30 out of  30 | elapsed:    0.5s finished\n",
      "\n",
      "[2022-12-28 10:25:54] Features: 1/30 -- score: 0.9023809523809525[Parallel(n_jobs=1)]: Using backend SequentialBackend with 1 concurrent workers.\n",
      "[Parallel(n_jobs=1)]: Done   1 out of   1 | elapsed:    0.0s remaining:    0.0s\n",
      "[Parallel(n_jobs=1)]: Done  29 out of  29 | elapsed:    0.5s finished\n",
      "\n",
      "[2022-12-28 10:25:54] Features: 2/30 -- score: 0.938095238095238[Parallel(n_jobs=1)]: Using backend SequentialBackend with 1 concurrent workers.\n",
      "[Parallel(n_jobs=1)]: Done   1 out of   1 | elapsed:    0.0s remaining:    0.0s\n",
      "[Parallel(n_jobs=1)]: Done  28 out of  28 | elapsed:    0.4s finished\n",
      "\n",
      "[2022-12-28 10:25:55] Features: 3/30 -- score: 0.9404761904761905[Parallel(n_jobs=1)]: Using backend SequentialBackend with 1 concurrent workers.\n",
      "[Parallel(n_jobs=1)]: Done   1 out of   1 | elapsed:    0.0s remaining:    0.0s\n",
      "[Parallel(n_jobs=1)]: Done  27 out of  27 | elapsed:    0.5s finished\n",
      "\n",
      "[2022-12-28 10:25:55] Features: 4/30 -- score: 0.9452380952380952[Parallel(n_jobs=1)]: Using backend SequentialBackend with 1 concurrent workers.\n",
      "[Parallel(n_jobs=1)]: Done   1 out of   1 | elapsed:    0.0s remaining:    0.0s\n",
      "[Parallel(n_jobs=1)]: Done  26 out of  26 | elapsed:    0.5s finished\n",
      "\n",
      "[2022-12-28 10:25:56] Features: 5/30 -- score: 0.95[Parallel(n_jobs=1)]: Using backend SequentialBackend with 1 concurrent workers.\n",
      "[Parallel(n_jobs=1)]: Done   1 out of   1 | elapsed:    0.0s remaining:    0.0s\n",
      "[Parallel(n_jobs=1)]: Done  25 out of  25 | elapsed:    0.4s finished\n",
      "\n",
      "[2022-12-28 10:25:56] Features: 6/30 -- score: 0.9547619047619047[Parallel(n_jobs=1)]: Using backend SequentialBackend with 1 concurrent workers.\n",
      "[Parallel(n_jobs=1)]: Done   1 out of   1 | elapsed:    0.0s remaining:    0.0s\n",
      "[Parallel(n_jobs=1)]: Done  24 out of  24 | elapsed:    0.4s finished\n",
      "\n",
      "[2022-12-28 10:25:57] Features: 7/30 -- score: 0.95[Parallel(n_jobs=1)]: Using backend SequentialBackend with 1 concurrent workers.\n",
      "[Parallel(n_jobs=1)]: Done   1 out of   1 | elapsed:    0.0s remaining:    0.0s\n",
      "[Parallel(n_jobs=1)]: Done  23 out of  23 | elapsed:    0.3s finished\n",
      "\n",
      "[2022-12-28 10:25:57] Features: 8/30 -- score: 0.9452380952380952[Parallel(n_jobs=1)]: Using backend SequentialBackend with 1 concurrent workers.\n",
      "[Parallel(n_jobs=1)]: Done   1 out of   1 | elapsed:    0.0s remaining:    0.0s\n",
      "[Parallel(n_jobs=1)]: Done  22 out of  22 | elapsed:    0.3s finished\n",
      "\n",
      "[2022-12-28 10:25:58] Features: 9/30 -- score: 0.9428571428571428[Parallel(n_jobs=1)]: Using backend SequentialBackend with 1 concurrent workers.\n",
      "[Parallel(n_jobs=1)]: Done   1 out of   1 | elapsed:    0.0s remaining:    0.0s\n",
      "[Parallel(n_jobs=1)]: Done  21 out of  21 | elapsed:    0.3s finished\n",
      "\n",
      "[2022-12-28 10:25:58] Features: 10/30 -- score: 0.9452380952380952[Parallel(n_jobs=1)]: Using backend SequentialBackend with 1 concurrent workers.\n",
      "[Parallel(n_jobs=1)]: Done   1 out of   1 | elapsed:    0.0s remaining:    0.0s\n",
      "[Parallel(n_jobs=1)]: Done  20 out of  20 | elapsed:    0.3s finished\n",
      "\n",
      "[2022-12-28 10:25:58] Features: 11/30 -- score: 0.9476190476190476[Parallel(n_jobs=1)]: Using backend SequentialBackend with 1 concurrent workers.\n",
      "[Parallel(n_jobs=1)]: Done   1 out of   1 | elapsed:    0.0s remaining:    0.0s\n",
      "[Parallel(n_jobs=1)]: Done  19 out of  19 | elapsed:    0.3s finished\n",
      "\n",
      "[2022-12-28 10:25:59] Features: 12/30 -- score: 0.9476190476190476[Parallel(n_jobs=1)]: Using backend SequentialBackend with 1 concurrent workers.\n",
      "[Parallel(n_jobs=1)]: Done   1 out of   1 | elapsed:    0.0s remaining:    0.0s\n",
      "[Parallel(n_jobs=1)]: Done  18 out of  18 | elapsed:    0.3s finished\n",
      "\n",
      "[2022-12-28 10:25:59] Features: 13/30 -- score: 0.95[Parallel(n_jobs=1)]: Using backend SequentialBackend with 1 concurrent workers.\n",
      "[Parallel(n_jobs=1)]: Done   1 out of   1 | elapsed:    0.0s remaining:    0.0s\n",
      "[Parallel(n_jobs=1)]: Done  17 out of  17 | elapsed:    0.3s finished\n",
      "\n",
      "[2022-12-28 10:26:00] Features: 14/30 -- score: 0.9476190476190476[Parallel(n_jobs=1)]: Using backend SequentialBackend with 1 concurrent workers.\n",
      "[Parallel(n_jobs=1)]: Done   1 out of   1 | elapsed:    0.0s remaining:    0.0s\n",
      "[Parallel(n_jobs=1)]: Done  16 out of  16 | elapsed:    0.2s finished\n",
      "\n",
      "[2022-12-28 10:26:00] Features: 15/30 -- score: 0.9404761904761905[Parallel(n_jobs=1)]: Using backend SequentialBackend with 1 concurrent workers.\n",
      "[Parallel(n_jobs=1)]: Done   1 out of   1 | elapsed:    0.0s remaining:    0.0s\n",
      "[Parallel(n_jobs=1)]: Done  15 out of  15 | elapsed:    0.3s finished\n",
      "\n",
      "[2022-12-28 10:26:00] Features: 16/30 -- score: 0.9404761904761905[Parallel(n_jobs=1)]: Using backend SequentialBackend with 1 concurrent workers.\n",
      "[Parallel(n_jobs=1)]: Done   1 out of   1 | elapsed:    0.0s remaining:    0.0s\n",
      "[Parallel(n_jobs=1)]: Done  14 out of  14 | elapsed:    0.2s finished\n",
      "\n",
      "[2022-12-28 10:26:01] Features: 17/30 -- score: 0.9452380952380952[Parallel(n_jobs=1)]: Using backend SequentialBackend with 1 concurrent workers.\n",
      "[Parallel(n_jobs=1)]: Done   1 out of   1 | elapsed:    0.0s remaining:    0.0s\n",
      "[Parallel(n_jobs=1)]: Done  13 out of  13 | elapsed:    0.2s finished\n",
      "\n",
      "[2022-12-28 10:26:01] Features: 18/30 -- score: 0.95[Parallel(n_jobs=1)]: Using backend SequentialBackend with 1 concurrent workers.\n",
      "[Parallel(n_jobs=1)]: Done   1 out of   1 | elapsed:    0.0s remaining:    0.0s\n",
      "[Parallel(n_jobs=1)]: Done  12 out of  12 | elapsed:    0.1s finished\n",
      "\n",
      "[2022-12-28 10:26:01] Features: 19/30 -- score: 0.9452380952380952[Parallel(n_jobs=1)]: Using backend SequentialBackend with 1 concurrent workers.\n",
      "[Parallel(n_jobs=1)]: Done   1 out of   1 | elapsed:    0.0s remaining:    0.0s\n",
      "[Parallel(n_jobs=1)]: Done  11 out of  11 | elapsed:    0.1s finished\n",
      "\n",
      "[2022-12-28 10:26:01] Features: 20/30 -- score: 0.9428571428571428[Parallel(n_jobs=1)]: Using backend SequentialBackend with 1 concurrent workers.\n",
      "[Parallel(n_jobs=1)]: Done   1 out of   1 | elapsed:    0.0s remaining:    0.0s\n",
      "[Parallel(n_jobs=1)]: Done  10 out of  10 | elapsed:    0.1s finished\n",
      "\n",
      "[2022-12-28 10:26:01] Features: 21/30 -- score: 0.9428571428571428[Parallel(n_jobs=1)]: Using backend SequentialBackend with 1 concurrent workers.\n",
      "[Parallel(n_jobs=1)]: Done   1 out of   1 | elapsed:    0.0s remaining:    0.0s\n",
      "[Parallel(n_jobs=1)]: Done   9 out of   9 | elapsed:    0.0s finished\n",
      "\n",
      "[2022-12-28 10:26:02] Features: 22/30 -- score: 0.9428571428571428[Parallel(n_jobs=1)]: Using backend SequentialBackend with 1 concurrent workers.\n",
      "[Parallel(n_jobs=1)]: Done   1 out of   1 | elapsed:    0.0s remaining:    0.0s\n",
      "[Parallel(n_jobs=1)]: Done   8 out of   8 | elapsed:    0.1s finished\n",
      "\n",
      "[2022-12-28 10:26:02] Features: 23/30 -- score: 0.9404761904761905[Parallel(n_jobs=1)]: Using backend SequentialBackend with 1 concurrent workers.\n",
      "[Parallel(n_jobs=1)]: Done   1 out of   1 | elapsed:    0.0s remaining:    0.0s\n",
      "[Parallel(n_jobs=1)]: Done   7 out of   7 | elapsed:    0.0s finished\n",
      "\n",
      "[2022-12-28 10:26:02] Features: 24/30 -- score: 0.9380952380952381[Parallel(n_jobs=1)]: Using backend SequentialBackend with 1 concurrent workers.\n",
      "[Parallel(n_jobs=1)]: Done   1 out of   1 | elapsed:    0.0s remaining:    0.0s\n",
      "[Parallel(n_jobs=1)]: Done   6 out of   6 | elapsed:    0.0s finished\n",
      "\n",
      "[2022-12-28 10:26:02] Features: 25/30 -- score: 0.9380952380952381[Parallel(n_jobs=1)]: Using backend SequentialBackend with 1 concurrent workers.\n",
      "[Parallel(n_jobs=1)]: Done   1 out of   1 | elapsed:    0.0s remaining:    0.0s\n",
      "[Parallel(n_jobs=1)]: Done   5 out of   5 | elapsed:    0.0s finished\n",
      "\n",
      "[2022-12-28 10:26:02] Features: 26/30 -- score: 0.930952380952381[Parallel(n_jobs=1)]: Using backend SequentialBackend with 1 concurrent workers.\n",
      "[Parallel(n_jobs=1)]: Done   1 out of   1 | elapsed:    0.0s remaining:    0.0s\n",
      "[Parallel(n_jobs=1)]: Done   4 out of   4 | elapsed:    0.0s finished\n",
      "\n",
      "[2022-12-28 10:26:02] Features: 27/30 -- score: 0.9285714285714286[Parallel(n_jobs=1)]: Using backend SequentialBackend with 1 concurrent workers.\n",
      "[Parallel(n_jobs=1)]: Done   1 out of   1 | elapsed:    0.0s remaining:    0.0s\n",
      "[Parallel(n_jobs=1)]: Done   3 out of   3 | elapsed:    0.0s finished\n",
      "\n",
      "[2022-12-28 10:26:02] Features: 28/30 -- score: 0.9238095238095237[Parallel(n_jobs=1)]: Using backend SequentialBackend with 1 concurrent workers.\n",
      "[Parallel(n_jobs=1)]: Done   1 out of   1 | elapsed:    0.0s remaining:    0.0s\n",
      "[Parallel(n_jobs=1)]: Done   2 out of   2 | elapsed:    0.0s finished\n",
      "\n",
      "[2022-12-28 10:26:02] Features: 29/30 -- score: 0.9166666666666667[Parallel(n_jobs=1)]: Using backend SequentialBackend with 1 concurrent workers.\n",
      "[Parallel(n_jobs=1)]: Done   1 out of   1 | elapsed:    0.0s remaining:    0.0s\n",
      "[Parallel(n_jobs=1)]: Done   1 out of   1 | elapsed:    0.0s finished\n",
      "\n",
      "[2022-12-28 10:26:02] Features: 30/30 -- score: 0.9166666666666667"
     ]
    }
   ],
   "source": [
    "sfs2 = SFS(m, \n",
    "           k_features=\"best\", \n",
    "           forward=True, \n",
    "           floating=False, \n",
    "           verbose=2,\n",
    "           scoring='accuracy',\n",
    "           cv=5)\n",
    "\n",
    "sfs2 = sfs2.fit(X1_train_std, y1_train)"
   ]
  },
  {
   "cell_type": "code",
   "execution_count": 16,
   "id": "00a55ba1",
   "metadata": {},
   "outputs": [
    {
     "data": {
      "text/plain": [
       "(5, 10, 11, 12, 14, 17)"
      ]
     },
     "execution_count": 16,
     "metadata": {},
     "output_type": "execute_result"
    }
   ],
   "source": [
    "sfs2.k_feature_idx_"
   ]
  },
  {
   "cell_type": "code",
   "execution_count": 17,
   "id": "b358a426",
   "metadata": {},
   "outputs": [
    {
     "name": "stdout",
     "output_type": "stream",
     "text": [
      "Index(['V6', 'V11', 'V12', 'V13', 'V15', 'V18'], dtype='object')\n",
      "score: 0.9547619047619047\n"
     ]
    }
   ],
   "source": [
    "print(l.columns[1:][list(sfs2.k_feature_idx_)])\n",
    "print(\"score:\",sfs2.k_score_)"
   ]
  },
  {
   "cell_type": "code",
   "execution_count": null,
   "id": "0c968152",
   "metadata": {},
   "outputs": [],
   "source": []
  }
 ],
 "metadata": {
  "kernelspec": {
   "display_name": "Python 3 (ipykernel)",
   "language": "python",
   "name": "python3"
  },
  "language_info": {
   "codemirror_mode": {
    "name": "ipython",
    "version": 3
   },
   "file_extension": ".py",
   "mimetype": "text/x-python",
   "name": "python",
   "nbconvert_exporter": "python",
   "pygments_lexer": "ipython3",
   "version": "3.9.12"
  }
 },
 "nbformat": 4,
 "nbformat_minor": 5
}
